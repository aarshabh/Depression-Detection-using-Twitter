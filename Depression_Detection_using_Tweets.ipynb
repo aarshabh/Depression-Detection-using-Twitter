{
  "cells": [
    {
      "cell_type": "code",
      "source": [
        "!pip install pyLDAvis\n",
        "!pip install nltk\n",
        "!pip install wordcloud\n",
        "!pip install keras"
      ],
      "metadata": {
        "id": "CnUpaVFjD2xg",
        "outputId": "cc25a135-70f7-41a9-943f-56d96ed7a63a",
        "colab": {
          "base_uri": "https://localhost:8080/",
          "height": 1000
        }
      },
      "execution_count": null,
      "outputs": [
        {
          "output_type": "stream",
          "name": "stdout",
          "text": [
            "Collecting pyLDAvis\n",
            "  Downloading pyLDAvis-3.3.1.tar.gz (1.7 MB)\n",
            "\u001b[?25l\r\u001b[K     |▏                               | 10 kB 27.6 MB/s eta 0:00:01\r\u001b[K     |▍                               | 20 kB 29.6 MB/s eta 0:00:01\r\u001b[K     |▋                               | 30 kB 18.1 MB/s eta 0:00:01\r\u001b[K     |▉                               | 40 kB 15.3 MB/s eta 0:00:01\r\u001b[K     |█                               | 51 kB 8.3 MB/s eta 0:00:01\r\u001b[K     |█▏                              | 61 kB 7.8 MB/s eta 0:00:01\r\u001b[K     |█▍                              | 71 kB 8.8 MB/s eta 0:00:01\r\u001b[K     |█▋                              | 81 kB 9.7 MB/s eta 0:00:01\r\u001b[K     |█▉                              | 92 kB 9.8 MB/s eta 0:00:01\r\u001b[K     |██                              | 102 kB 7.7 MB/s eta 0:00:01\r\u001b[K     |██▏                             | 112 kB 7.7 MB/s eta 0:00:01\r\u001b[K     |██▍                             | 122 kB 7.7 MB/s eta 0:00:01\r\u001b[K     |██▋                             | 133 kB 7.7 MB/s eta 0:00:01\r\u001b[K     |██▊                             | 143 kB 7.7 MB/s eta 0:00:01\r\u001b[K     |███                             | 153 kB 7.7 MB/s eta 0:00:01\r\u001b[K     |███▏                            | 163 kB 7.7 MB/s eta 0:00:01\r\u001b[K     |███▍                            | 174 kB 7.7 MB/s eta 0:00:01\r\u001b[K     |███▋                            | 184 kB 7.7 MB/s eta 0:00:01\r\u001b[K     |███▊                            | 194 kB 7.7 MB/s eta 0:00:01\r\u001b[K     |████                            | 204 kB 7.7 MB/s eta 0:00:01\r\u001b[K     |████▏                           | 215 kB 7.7 MB/s eta 0:00:01\r\u001b[K     |████▍                           | 225 kB 7.7 MB/s eta 0:00:01\r\u001b[K     |████▋                           | 235 kB 7.7 MB/s eta 0:00:01\r\u001b[K     |████▊                           | 245 kB 7.7 MB/s eta 0:00:01\r\u001b[K     |█████                           | 256 kB 7.7 MB/s eta 0:00:01\r\u001b[K     |█████▏                          | 266 kB 7.7 MB/s eta 0:00:01\r\u001b[K     |█████▍                          | 276 kB 7.7 MB/s eta 0:00:01\r\u001b[K     |█████▌                          | 286 kB 7.7 MB/s eta 0:00:01\r\u001b[K     |█████▊                          | 296 kB 7.7 MB/s eta 0:00:01\r\u001b[K     |██████                          | 307 kB 7.7 MB/s eta 0:00:01\r\u001b[K     |██████▏                         | 317 kB 7.7 MB/s eta 0:00:01\r\u001b[K     |██████▍                         | 327 kB 7.7 MB/s eta 0:00:01\r\u001b[K     |██████▌                         | 337 kB 7.7 MB/s eta 0:00:01\r\u001b[K     |██████▊                         | 348 kB 7.7 MB/s eta 0:00:01\r\u001b[K     |███████                         | 358 kB 7.7 MB/s eta 0:00:01\r\u001b[K     |███████▏                        | 368 kB 7.7 MB/s eta 0:00:01\r\u001b[K     |███████▎                        | 378 kB 7.7 MB/s eta 0:00:01\r\u001b[K     |███████▌                        | 389 kB 7.7 MB/s eta 0:00:01\r\u001b[K     |███████▊                        | 399 kB 7.7 MB/s eta 0:00:01\r\u001b[K     |████████                        | 409 kB 7.7 MB/s eta 0:00:01\r\u001b[K     |████████▏                       | 419 kB 7.7 MB/s eta 0:00:01\r\u001b[K     |████████▎                       | 430 kB 7.7 MB/s eta 0:00:01\r\u001b[K     |████████▌                       | 440 kB 7.7 MB/s eta 0:00:01\r\u001b[K     |████████▊                       | 450 kB 7.7 MB/s eta 0:00:01\r\u001b[K     |█████████                       | 460 kB 7.7 MB/s eta 0:00:01\r\u001b[K     |█████████▏                      | 471 kB 7.7 MB/s eta 0:00:01\r\u001b[K     |█████████▎                      | 481 kB 7.7 MB/s eta 0:00:01\r\u001b[K     |█████████▌                      | 491 kB 7.7 MB/s eta 0:00:01\r\u001b[K     |█████████▊                      | 501 kB 7.7 MB/s eta 0:00:01\r\u001b[K     |██████████                      | 512 kB 7.7 MB/s eta 0:00:01\r\u001b[K     |██████████                      | 522 kB 7.7 MB/s eta 0:00:01\r\u001b[K     |██████████▎                     | 532 kB 7.7 MB/s eta 0:00:01\r\u001b[K     |██████████▌                     | 542 kB 7.7 MB/s eta 0:00:01\r\u001b[K     |██████████▊                     | 552 kB 7.7 MB/s eta 0:00:01\r\u001b[K     |███████████                     | 563 kB 7.7 MB/s eta 0:00:01\r\u001b[K     |███████████                     | 573 kB 7.7 MB/s eta 0:00:01\r\u001b[K     |███████████▎                    | 583 kB 7.7 MB/s eta 0:00:01\r\u001b[K     |███████████▌                    | 593 kB 7.7 MB/s eta 0:00:01\r\u001b[K     |███████████▊                    | 604 kB 7.7 MB/s eta 0:00:01\r\u001b[K     |███████████▉                    | 614 kB 7.7 MB/s eta 0:00:01\r\u001b[K     |████████████                    | 624 kB 7.7 MB/s eta 0:00:01\r\u001b[K     |████████████▎                   | 634 kB 7.7 MB/s eta 0:00:01\r\u001b[K     |████████████▌                   | 645 kB 7.7 MB/s eta 0:00:01\r\u001b[K     |████████████▊                   | 655 kB 7.7 MB/s eta 0:00:01\r\u001b[K     |████████████▉                   | 665 kB 7.7 MB/s eta 0:00:01\r\u001b[K     |█████████████                   | 675 kB 7.7 MB/s eta 0:00:01\r\u001b[K     |█████████████▎                  | 686 kB 7.7 MB/s eta 0:00:01\r\u001b[K     |█████████████▌                  | 696 kB 7.7 MB/s eta 0:00:01\r\u001b[K     |█████████████▊                  | 706 kB 7.7 MB/s eta 0:00:01\r\u001b[K     |█████████████▉                  | 716 kB 7.7 MB/s eta 0:00:01\r\u001b[K     |██████████████                  | 727 kB 7.7 MB/s eta 0:00:01\r\u001b[K     |██████████████▎                 | 737 kB 7.7 MB/s eta 0:00:01\r\u001b[K     |██████████████▌                 | 747 kB 7.7 MB/s eta 0:00:01\r\u001b[K     |██████████████▋                 | 757 kB 7.7 MB/s eta 0:00:01\r\u001b[K     |██████████████▉                 | 768 kB 7.7 MB/s eta 0:00:01\r\u001b[K     |███████████████                 | 778 kB 7.7 MB/s eta 0:00:01\r\u001b[K     |███████████████▎                | 788 kB 7.7 MB/s eta 0:00:01\r\u001b[K     |███████████████▌                | 798 kB 7.7 MB/s eta 0:00:01\r\u001b[K     |███████████████▋                | 808 kB 7.7 MB/s eta 0:00:01\r\u001b[K     |███████████████▉                | 819 kB 7.7 MB/s eta 0:00:01\r\u001b[K     |████████████████                | 829 kB 7.7 MB/s eta 0:00:01\r\u001b[K     |████████████████▎               | 839 kB 7.7 MB/s eta 0:00:01\r\u001b[K     |████████████████▍               | 849 kB 7.7 MB/s eta 0:00:01\r\u001b[K     |████████████████▋               | 860 kB 7.7 MB/s eta 0:00:01\r\u001b[K     |████████████████▉               | 870 kB 7.7 MB/s eta 0:00:01\r\u001b[K     |█████████████████               | 880 kB 7.7 MB/s eta 0:00:01\r\u001b[K     |█████████████████▎              | 890 kB 7.7 MB/s eta 0:00:01\r\u001b[K     |█████████████████▍              | 901 kB 7.7 MB/s eta 0:00:01\r\u001b[K     |█████████████████▋              | 911 kB 7.7 MB/s eta 0:00:01\r\u001b[K     |█████████████████▉              | 921 kB 7.7 MB/s eta 0:00:01\r\u001b[K     |██████████████████              | 931 kB 7.7 MB/s eta 0:00:01\r\u001b[K     |██████████████████▎             | 942 kB 7.7 MB/s eta 0:00:01\r\u001b[K     |██████████████████▍             | 952 kB 7.7 MB/s eta 0:00:01\r\u001b[K     |██████████████████▋             | 962 kB 7.7 MB/s eta 0:00:01\r\u001b[K     |██████████████████▉             | 972 kB 7.7 MB/s eta 0:00:01\r\u001b[K     |███████████████████             | 983 kB 7.7 MB/s eta 0:00:01\r\u001b[K     |███████████████████▏            | 993 kB 7.7 MB/s eta 0:00:01\r\u001b[K     |███████████████████▍            | 1.0 MB 7.7 MB/s eta 0:00:01\r\u001b[K     |███████████████████▋            | 1.0 MB 7.7 MB/s eta 0:00:01\r\u001b[K     |███████████████████▉            | 1.0 MB 7.7 MB/s eta 0:00:01\r\u001b[K     |████████████████████            | 1.0 MB 7.7 MB/s eta 0:00:01\r\u001b[K     |████████████████████▏           | 1.0 MB 7.7 MB/s eta 0:00:01\r\u001b[K     |████████████████████▍           | 1.1 MB 7.7 MB/s eta 0:00:01\r\u001b[K     |████████████████████▋           | 1.1 MB 7.7 MB/s eta 0:00:01\r\u001b[K     |████████████████████▉           | 1.1 MB 7.7 MB/s eta 0:00:01\r\u001b[K     |█████████████████████           | 1.1 MB 7.7 MB/s eta 0:00:01\r\u001b[K     |█████████████████████▏          | 1.1 MB 7.7 MB/s eta 0:00:01\r\u001b[K     |█████████████████████▍          | 1.1 MB 7.7 MB/s eta 0:00:01\r\u001b[K     |█████████████████████▋          | 1.1 MB 7.7 MB/s eta 0:00:01\r\u001b[K     |█████████████████████▉          | 1.1 MB 7.7 MB/s eta 0:00:01\r\u001b[K     |██████████████████████          | 1.1 MB 7.7 MB/s eta 0:00:01\r\u001b[K     |██████████████████████▏         | 1.1 MB 7.7 MB/s eta 0:00:01\r\u001b[K     |██████████████████████▍         | 1.2 MB 7.7 MB/s eta 0:00:01\r\u001b[K     |██████████████████████▋         | 1.2 MB 7.7 MB/s eta 0:00:01\r\u001b[K     |██████████████████████▉         | 1.2 MB 7.7 MB/s eta 0:00:01\r\u001b[K     |███████████████████████         | 1.2 MB 7.7 MB/s eta 0:00:01\r\u001b[K     |███████████████████████▏        | 1.2 MB 7.7 MB/s eta 0:00:01\r\u001b[K     |███████████████████████▍        | 1.2 MB 7.7 MB/s eta 0:00:01\r\u001b[K     |███████████████████████▋        | 1.2 MB 7.7 MB/s eta 0:00:01\r\u001b[K     |███████████████████████▊        | 1.2 MB 7.7 MB/s eta 0:00:01\r\u001b[K     |████████████████████████        | 1.2 MB 7.7 MB/s eta 0:00:01\r\u001b[K     |████████████████████████▏       | 1.2 MB 7.7 MB/s eta 0:00:01\r\u001b[K     |████████████████████████▍       | 1.3 MB 7.7 MB/s eta 0:00:01\r\u001b[K     |████████████████████████▋       | 1.3 MB 7.7 MB/s eta 0:00:01\r\u001b[K     |████████████████████████▊       | 1.3 MB 7.7 MB/s eta 0:00:01\r\u001b[K     |█████████████████████████       | 1.3 MB 7.7 MB/s eta 0:00:01\r\u001b[K     |█████████████████████████▏      | 1.3 MB 7.7 MB/s eta 0:00:01\r\u001b[K     |█████████████████████████▍      | 1.3 MB 7.7 MB/s eta 0:00:01\r\u001b[K     |█████████████████████████▌      | 1.3 MB 7.7 MB/s eta 0:00:01\r\u001b[K     |█████████████████████████▊      | 1.3 MB 7.7 MB/s eta 0:00:01\r\u001b[K     |██████████████████████████      | 1.3 MB 7.7 MB/s eta 0:00:01\r\u001b[K     |██████████████████████████▏     | 1.4 MB 7.7 MB/s eta 0:00:01\r\u001b[K     |██████████████████████████▍     | 1.4 MB 7.7 MB/s eta 0:00:01\r\u001b[K     |██████████████████████████▌     | 1.4 MB 7.7 MB/s eta 0:00:01\r\u001b[K     |██████████████████████████▊     | 1.4 MB 7.7 MB/s eta 0:00:01\r\u001b[K     |███████████████████████████     | 1.4 MB 7.7 MB/s eta 0:00:01\r\u001b[K     |███████████████████████████▏    | 1.4 MB 7.7 MB/s eta 0:00:01\r\u001b[K     |███████████████████████████▍    | 1.4 MB 7.7 MB/s eta 0:00:01\r\u001b[K     |███████████████████████████▌    | 1.4 MB 7.7 MB/s eta 0:00:01\r\u001b[K     |███████████████████████████▊    | 1.4 MB 7.7 MB/s eta 0:00:01\r\u001b[K     |████████████████████████████    | 1.4 MB 7.7 MB/s eta 0:00:01\r\u001b[K     |████████████████████████████▏   | 1.5 MB 7.7 MB/s eta 0:00:01\r\u001b[K     |████████████████████████████▎   | 1.5 MB 7.7 MB/s eta 0:00:01\r\u001b[K     |████████████████████████████▌   | 1.5 MB 7.7 MB/s eta 0:00:01\r\u001b[K     |████████████████████████████▊   | 1.5 MB 7.7 MB/s eta 0:00:01\r\u001b[K     |█████████████████████████████   | 1.5 MB 7.7 MB/s eta 0:00:01\r\u001b[K     |█████████████████████████████▏  | 1.5 MB 7.7 MB/s eta 0:00:01\r\u001b[K     |█████████████████████████████▎  | 1.5 MB 7.7 MB/s eta 0:00:01\r\u001b[K     |█████████████████████████████▌  | 1.5 MB 7.7 MB/s eta 0:00:01\r\u001b[K     |█████████████████████████████▊  | 1.5 MB 7.7 MB/s eta 0:00:01\r\u001b[K     |██████████████████████████████  | 1.5 MB 7.7 MB/s eta 0:00:01\r\u001b[K     |██████████████████████████████▏ | 1.6 MB 7.7 MB/s eta 0:00:01\r\u001b[K     |██████████████████████████████▎ | 1.6 MB 7.7 MB/s eta 0:00:01\r\u001b[K     |██████████████████████████████▌ | 1.6 MB 7.7 MB/s eta 0:00:01\r\u001b[K     |██████████████████████████████▊ | 1.6 MB 7.7 MB/s eta 0:00:01\r\u001b[K     |███████████████████████████████ | 1.6 MB 7.7 MB/s eta 0:00:01\r\u001b[K     |███████████████████████████████ | 1.6 MB 7.7 MB/s eta 0:00:01\r\u001b[K     |███████████████████████████████▎| 1.6 MB 7.7 MB/s eta 0:00:01\r\u001b[K     |███████████████████████████████▌| 1.6 MB 7.7 MB/s eta 0:00:01\r\u001b[K     |███████████████████████████████▊| 1.6 MB 7.7 MB/s eta 0:00:01\r\u001b[K     |████████████████████████████████| 1.6 MB 7.7 MB/s eta 0:00:01\r\u001b[K     |████████████████████████████████| 1.7 MB 7.7 MB/s \n",
            "\u001b[?25h  Installing build dependencies ... \u001b[?25l\u001b[?25hdone\n",
            "  Getting requirements to build wheel ... \u001b[?25l\u001b[?25hdone\n",
            "  Installing backend dependencies ... \u001b[?25l\u001b[?25hdone\n",
            "    Preparing wheel metadata ... \u001b[?25l\u001b[?25hdone\n",
            "Requirement already satisfied: jinja2 in /usr/local/lib/python3.7/dist-packages (from pyLDAvis) (2.11.3)\n",
            "Requirement already satisfied: joblib in /usr/local/lib/python3.7/dist-packages (from pyLDAvis) (1.1.0)\n",
            "Requirement already satisfied: scikit-learn in /usr/local/lib/python3.7/dist-packages (from pyLDAvis) (1.0.1)\n",
            "Requirement already satisfied: numexpr in /usr/local/lib/python3.7/dist-packages (from pyLDAvis) (2.7.3)\n",
            "Requirement already satisfied: sklearn in /usr/local/lib/python3.7/dist-packages (from pyLDAvis) (0.0)\n",
            "Requirement already satisfied: gensim in /usr/local/lib/python3.7/dist-packages (from pyLDAvis) (3.6.0)\n",
            "Collecting pandas>=1.2.0\n",
            "  Downloading pandas-1.3.5-cp37-cp37m-manylinux_2_17_x86_64.manylinux2014_x86_64.whl (11.3 MB)\n",
            "\u001b[K     |████████████████████████████████| 11.3 MB 43.5 MB/s \n",
            "\u001b[?25hCollecting numpy>=1.20.0\n",
            "  Downloading numpy-1.21.5-cp37-cp37m-manylinux_2_12_x86_64.manylinux2010_x86_64.whl (15.7 MB)\n",
            "\u001b[K     |████████████████████████████████| 15.7 MB 46.6 MB/s \n",
            "\u001b[?25hCollecting funcy\n",
            "  Downloading funcy-1.17-py2.py3-none-any.whl (33 kB)\n",
            "Requirement already satisfied: future in /usr/local/lib/python3.7/dist-packages (from pyLDAvis) (0.16.0)\n",
            "Requirement already satisfied: setuptools in /usr/local/lib/python3.7/dist-packages (from pyLDAvis) (57.4.0)\n",
            "Requirement already satisfied: scipy in /usr/local/lib/python3.7/dist-packages (from pyLDAvis) (1.4.1)\n",
            "Requirement already satisfied: pytz>=2017.3 in /usr/local/lib/python3.7/dist-packages (from pandas>=1.2.0->pyLDAvis) (2018.9)\n",
            "Requirement already satisfied: python-dateutil>=2.7.3 in /usr/local/lib/python3.7/dist-packages (from pandas>=1.2.0->pyLDAvis) (2.8.2)\n",
            "Requirement already satisfied: six>=1.5 in /usr/local/lib/python3.7/dist-packages (from python-dateutil>=2.7.3->pandas>=1.2.0->pyLDAvis) (1.15.0)\n",
            "Requirement already satisfied: smart-open>=1.2.1 in /usr/local/lib/python3.7/dist-packages (from gensim->pyLDAvis) (5.2.1)\n",
            "Requirement already satisfied: MarkupSafe>=0.23 in /usr/local/lib/python3.7/dist-packages (from jinja2->pyLDAvis) (2.0.1)\n",
            "Requirement already satisfied: threadpoolctl>=2.0.0 in /usr/local/lib/python3.7/dist-packages (from scikit-learn->pyLDAvis) (3.0.0)\n",
            "Building wheels for collected packages: pyLDAvis\n",
            "  Building wheel for pyLDAvis (PEP 517) ... \u001b[?25l\u001b[?25hdone\n",
            "  Created wheel for pyLDAvis: filename=pyLDAvis-3.3.1-py2.py3-none-any.whl size=136897 sha256=e54be14e694c7d8a1706deb97da4221477aa6a582d2b06e92bf3e6a50e8ef913\n",
            "  Stored in directory: /root/.cache/pip/wheels/c9/21/f6/17bcf2667e8a68532ba2fbf6d5c72fdf4c7f7d9abfa4852d2f\n",
            "Successfully built pyLDAvis\n",
            "Installing collected packages: numpy, pandas, funcy, pyLDAvis\n",
            "  Attempting uninstall: numpy\n",
            "    Found existing installation: numpy 1.19.5\n",
            "    Uninstalling numpy-1.19.5:\n",
            "      Successfully uninstalled numpy-1.19.5\n",
            "  Attempting uninstall: pandas\n",
            "    Found existing installation: pandas 1.1.5\n",
            "    Uninstalling pandas-1.1.5:\n",
            "      Successfully uninstalled pandas-1.1.5\n",
            "\u001b[31mERROR: pip's dependency resolver does not currently take into account all the packages that are installed. This behaviour is the source of the following dependency conflicts.\n",
            "yellowbrick 1.3.post1 requires numpy<1.20,>=1.16.0, but you have numpy 1.21.5 which is incompatible.\n",
            "google-colab 1.0.0 requires pandas~=1.1.0; python_version >= \"3.0\", but you have pandas 1.3.5 which is incompatible.\n",
            "datascience 0.10.6 requires folium==0.2.1, but you have folium 0.8.3 which is incompatible.\n",
            "albumentations 0.1.12 requires imgaug<0.2.7,>=0.2.5, but you have imgaug 0.2.9 which is incompatible.\u001b[0m\n",
            "Successfully installed funcy-1.17 numpy-1.21.5 pandas-1.3.5 pyLDAvis-3.3.1\n"
          ]
        },
        {
          "output_type": "display_data",
          "data": {
            "application/vnd.colab-display-data+json": {
              "pip_warning": {
                "packages": [
                  "numpy",
                  "pandas"
                ]
              }
            }
          },
          "metadata": {}
        },
        {
          "output_type": "stream",
          "name": "stdout",
          "text": [
            "Requirement already satisfied: nltk in /usr/local/lib/python3.7/dist-packages (3.2.5)\n",
            "Requirement already satisfied: six in /usr/local/lib/python3.7/dist-packages (from nltk) (1.15.0)\n",
            "Requirement already satisfied: wordcloud in /usr/local/lib/python3.7/dist-packages (1.5.0)\n",
            "Requirement already satisfied: pillow in /usr/local/lib/python3.7/dist-packages (from wordcloud) (7.1.2)\n",
            "Requirement already satisfied: numpy>=1.6.1 in /usr/local/lib/python3.7/dist-packages (from wordcloud) (1.21.5)\n",
            "Requirement already satisfied: keras in /usr/local/lib/python3.7/dist-packages (2.7.0)\n"
          ]
        }
      ]
    },
    {
      "cell_type": "code",
      "source": [
        "from sklearn.feature_extraction.text import TfidfVectorizer, CountVectorizer\n",
        "import re\n",
        "import numpy as np\n",
        "import pandas as pd \n",
        "import os\n",
        "import matplotlib.pyplot as plt\n",
        "import string\n",
        "from nltk.corpus import stopwords\n",
        "import nltk\n",
        "from nltk.corpus import wordnet\n",
        "from nltk.stem import WordNetLemmatizer\n",
        "from collections import Counter\n",
        "from wordcloud import WordCloud\n",
        "from nltk.corpus import stopwords\n",
        "import nltk\n",
        "from gensim.utils import simple_preprocess\n",
        "from nltk.corpus import stopwords\n",
        "import gensim\n",
        "from sklearn.model_selection import train_test_split\n",
        "import spacy\n",
        "from sklearn.decomposition import NMF, LatentDirichletAllocation\n",
        "import pyLDAvis\n",
        "import pyLDAvis.sklearn\n",
        "from sklearn.feature_extraction.text import CountVectorizer\n",
        "from sklearn.feature_extraction.text import TfidfTransformer\n",
        "from sklearn.linear_model import SGDClassifier\n",
        "from sklearn.model_selection import GridSearchCV\n",
        "from sklearn.pipeline import Pipeline\n",
        "from pprint import pprint\n",
        "from time import time\n",
        "from sklearn.linear_model import LogisticRegression\n",
        "from sklearn.svm import SVC\n",
        "from sklearn.ensemble import RandomForestClassifier\n",
        "from sklearn.ensemble import GradientBoostingClassifier\n",
        "import xgboost as xgb\n",
        "from sklearn.metrics import precision_score, recall_score, accuracy_score,roc_auc_score\n",
        "import warnings\n",
        "warnings.filterwarnings('ignore')\n",
        "from datetime import datetime\n",
        "import seaborn as sns\n",
        "from sklearn.metrics import confusion_matrix\n",
        "import matplotlib.pyplot as plt\n",
        "import keras"
      ],
      "metadata": {
        "id": "fGk0v96FD-A1",
        "outputId": "1241792a-e538-4b19-cf17-0acb721750b3",
        "colab": {
          "base_uri": "https://localhost:8080/"
        }
      },
      "execution_count": null,
      "outputs": [
        {
          "output_type": "stream",
          "name": "stderr",
          "text": [
            "/usr/local/lib/python3.7/dist-packages/past/types/oldstr.py:5: DeprecationWarning: Using or importing the ABCs from 'collections' instead of from 'collections.abc' is deprecated since Python 3.3,and in 3.9 it will stop working\n",
            "  from collections import Iterable\n"
          ]
        }
      ]
    },
    {
      "cell_type": "code",
      "source": [
        "from google.colab import drive\n",
        "drive.mount('/content/gdrive')"
      ],
      "metadata": {
        "id": "mVQ1g7VdD3yb",
        "outputId": "a2ab4935-7529-480c-f77e-fafe178b92a5",
        "colab": {
          "base_uri": "https://localhost:8080/"
        }
      },
      "execution_count": null,
      "outputs": [
        {
          "output_type": "stream",
          "name": "stdout",
          "text": [
            "Drive already mounted at /content/gdrive; to attempt to forcibly remount, call drive.mount(\"/content/gdrive\", force_remount=True).\n"
          ]
        }
      ]
    },
    {
      "cell_type": "code",
      "source": [
        "path = '/content/gdrive/MyDrive/Project/dep_excel.xlsx'\n",
        "dataset = pd.read_excel(path)\n",
        "dataset.describe"
      ],
      "metadata": {
        "id": "aZXNc7kSEsZW",
        "outputId": "3fa06482-c17c-454f-c21f-dec1b7a82123",
        "colab": {
          "base_uri": "https://localhost:8080/"
        }
      },
      "execution_count": null,
      "outputs": [
        {
          "output_type": "execute_result",
          "data": {
            "text/plain": [
              "<bound method NDFrame.describe of                                           Comments Text\n",
              "0     So, when you ask what the two illnesses are......\n",
              "1     In addition, people with BPD quite often have ...\n",
              "2     Borderline Personality Disorder, like all othe...\n",
              "3     LONG ANSWER: Bipolar disease is caused by a ch...\n",
              "4     Well think of bipolar as a rollar coaster you ...\n",
              "...                                                 ...\n",
              "7140  Please contact SADAG (south African depression...\n",
              "7141  It gave me severe ataxia.  (ataxia = People wi...\n",
              "7142  I have. Caused muscles to tense up swelling an...\n",
              "7143  Lamictal is my miracle med.Only took me 26 yea...\n",
              "7144  I take Wellbutrin, topamax, and buspar (antide...\n",
              "\n",
              "[7145 rows x 1 columns]>"
            ]
          },
          "metadata": {},
          "execution_count": 39
        }
      ]
    },
    {
      "cell_type": "code",
      "source": [
        "dataset.shape"
      ],
      "metadata": {
        "id": "p-BIbDwRFUWB",
        "outputId": "2a4dc174-39d5-4104-c45c-7f38e0647b18",
        "colab": {
          "base_uri": "https://localhost:8080/"
        }
      },
      "execution_count": null,
      "outputs": [
        {
          "output_type": "execute_result",
          "data": {
            "text/plain": [
              "(7145, 1)"
            ]
          },
          "metadata": {},
          "execution_count": 40
        }
      ]
    },
    {
      "cell_type": "code",
      "source": [
        "dataset.isnull().sum()"
      ],
      "metadata": {
        "id": "O2Z1PA-UHGR5",
        "outputId": "16df7167-aca5-4714-b660-76abe1d71132",
        "colab": {
          "base_uri": "https://localhost:8080/"
        }
      },
      "execution_count": null,
      "outputs": [
        {
          "output_type": "execute_result",
          "data": {
            "text/plain": [
              "Comments Text    0\n",
              "dtype: int64"
            ]
          },
          "metadata": {},
          "execution_count": 41
        }
      ]
    },
    {
      "cell_type": "code",
      "source": [
        "def remove_urls(text):\n",
        "    url_pattern = re.compile(r'https?://\\S+|www\\.\\S+')\n",
        "    return url_pattern.sub(r'', text)\n",
        "\n",
        "for i in range(len(dataset)):\n",
        "  dataset.at[i,'Comments Text'] = remove_urls(dataset.iloc[i]['Comments Text'])\n",
        "dataset.describe"
      ],
      "metadata": {
        "id": "jOiceE5IHXGq",
        "outputId": "37171b32-9a0b-4e11-d8f7-299673a96ae9",
        "colab": {
          "base_uri": "https://localhost:8080/"
        }
      },
      "execution_count": null,
      "outputs": [
        {
          "output_type": "execute_result",
          "data": {
            "text/plain": [
              "<bound method NDFrame.describe of                                           Comments Text\n",
              "0     So, when you ask what the two illnesses are......\n",
              "1     In addition, people with BPD quite often have ...\n",
              "2     Borderline Personality Disorder, like all othe...\n",
              "3     LONG ANSWER: Bipolar disease is caused by a ch...\n",
              "4     Well think of bipolar as a rollar coaster you ...\n",
              "...                                                 ...\n",
              "7140  Please contact SADAG (south African depression...\n",
              "7141  It gave me severe ataxia.  (ataxia = People wi...\n",
              "7142  I have. Caused muscles to tense up swelling an...\n",
              "7143  Lamictal is my miracle med.Only took me 26 yea...\n",
              "7144  I take Wellbutrin, topamax, and buspar (antide...\n",
              "\n",
              "[7145 rows x 1 columns]>"
            ]
          },
          "metadata": {},
          "execution_count": 42
        }
      ]
    },
    {
      "cell_type": "code",
      "source": [
        "# Convert to list\n",
        "data = dataset['Comments Text'].values.tolist()\n",
        "\n",
        "# Remove Emails\n",
        "data = [re.sub('\\S*@\\S*\\s?', '', sent) for sent in data]\n",
        "\n",
        "# Remove new line characters\n",
        "data = [re.sub('\\s+', ' ', sent) for sent in data]\n",
        "\n",
        "# Remove distracting single quotes\n",
        "data = [re.sub(\"\\'\", \"\", sent) for sent in data]\n",
        "\n",
        "print(data[:1])"
      ],
      "metadata": {
        "id": "H_IIy3zZHboj",
        "outputId": "c7d1ca1e-09f8-443e-9ad0-84bcf3701308",
        "colab": {
          "base_uri": "https://localhost:8080/"
        }
      },
      "execution_count": null,
      "outputs": [
        {
          "output_type": "stream",
          "name": "stdout",
          "text": [
            "['So, when you ask what the two illnesses are...theyre similar in that they tend to have moodiness involved, impulsivity and self-damaging behaviors for compensatory measures. Otherwise, theyre not really that similar, but they do seem to \"like\" one another and often show up in the same person...making their lives chaotic, difficult, dysfunctional, and intense. So, if your friend is concerned that they may have one (or both) of these illnesses, they should not be ashamed. Its definitely not their fault. They should, instead, get help from a professional...and INSIST that they are treated appropriately with the correct types of therapy and medication.']\n"
          ]
        }
      ]
    },
    {
      "cell_type": "code",
      "source": [
        "def sent_to_words(sentences):\n",
        "    for sentence in sentences:\n",
        "        yield(gensim.utils.simple_preprocess(str(sentence), deacc=True))  # deacc=True removes punctuations\n",
        "\n",
        "data_words = list(sent_to_words(data))\n",
        "\n",
        "print(data_words[:1])"
      ],
      "metadata": {
        "id": "aciSJVrqHgqL",
        "outputId": "9bd1f88e-742e-49c0-ea28-2f0174a88689",
        "colab": {
          "base_uri": "https://localhost:8080/"
        }
      },
      "execution_count": null,
      "outputs": [
        {
          "output_type": "stream",
          "name": "stdout",
          "text": [
            "[['so', 'when', 'you', 'ask', 'what', 'the', 'two', 'illnesses', 'are', 'theyre', 'similar', 'in', 'that', 'they', 'tend', 'to', 'have', 'moodiness', 'involved', 'impulsivity', 'and', 'self', 'damaging', 'behaviors', 'for', 'compensatory', 'measures', 'otherwise', 'theyre', 'not', 'really', 'that', 'similar', 'but', 'they', 'do', 'seem', 'to', 'like', 'one', 'another', 'and', 'often', 'show', 'up', 'in', 'the', 'same', 'person', 'making', 'their', 'lives', 'chaotic', 'difficult', 'dysfunctional', 'and', 'intense', 'so', 'if', 'your', 'friend', 'is', 'concerned', 'that', 'they', 'may', 'have', 'one', 'or', 'both', 'of', 'these', 'illnesses', 'they', 'should', 'not', 'be', 'ashamed', 'its', 'definitely', 'not', 'their', 'fault', 'they', 'should', 'instead', 'get', 'help', 'from', 'professional', 'and', 'insist', 'that', 'they', 'are', 'treated', 'appropriately', 'with', 'the', 'correct', 'types', 'of', 'therapy', 'and', 'medication']]\n"
          ]
        }
      ]
    },
    {
      "cell_type": "code",
      "source": [
        "bigram = gensim.models.Phrases(data_words, min_count=5, threshold=100) # higher threshold fewer phrases.\n",
        "trigram = gensim.models.Phrases(bigram[data_words], threshold=100)  \n",
        "\n",
        "# Faster way to get a sentence clubbed as a trigram/bigram\n",
        "bigram_mod = gensim.models.phrases.Phraser(bigram)\n",
        "trigram_mod = gensim.models.phrases.Phraser(trigram)\n",
        "\n",
        "# See trigram example\n",
        "print(trigram_mod[bigram_mod[data_words[0]]])"
      ],
      "metadata": {
        "id": "ewHXpQxMHjsB",
        "outputId": "a48b8c01-fa3a-4122-a236-61077d23c639",
        "colab": {
          "base_uri": "https://localhost:8080/"
        }
      },
      "execution_count": null,
      "outputs": [
        {
          "output_type": "stream",
          "name": "stdout",
          "text": [
            "['so', 'when', 'you', 'ask', 'what', 'the', 'two', 'illnesses', 'are', 'theyre', 'similar', 'in', 'that', 'they', 'tend', 'to', 'have', 'moodiness', 'involved', 'impulsivity', 'and', 'self', 'damaging', 'behaviors', 'for', 'compensatory', 'measures', 'otherwise', 'theyre', 'not', 'really', 'that', 'similar', 'but', 'they', 'do', 'seem', 'to', 'like', 'one', 'another', 'and', 'often', 'show', 'up', 'in', 'the', 'same', 'person', 'making', 'their', 'lives', 'chaotic', 'difficult', 'dysfunctional', 'and', 'intense', 'so', 'if', 'your', 'friend', 'is', 'concerned', 'that', 'they', 'may', 'have', 'one', 'or', 'both', 'of', 'these', 'illnesses', 'they', 'should', 'not', 'be', 'ashamed', 'its', 'definitely', 'not', 'their', 'fault', 'they', 'should', 'instead', 'get', 'help', 'from', 'professional', 'and', 'insist', 'that', 'they', 'are', 'treated', 'appropriately', 'with', 'the', 'correct', 'types', 'of', 'therapy', 'and', 'medication']\n"
          ]
        }
      ]
    },
    {
      "cell_type": "code",
      "source": [
        "nltk.download('stopwords')"
      ],
      "metadata": {
        "id": "vB1Hpo6CHw2s",
        "outputId": "4d57ef14-9029-4f91-addd-235e42d469d0",
        "colab": {
          "base_uri": "https://localhost:8080/"
        }
      },
      "execution_count": null,
      "outputs": [
        {
          "output_type": "stream",
          "name": "stdout",
          "text": [
            "[nltk_data] Downloading package stopwords to /root/nltk_data...\n",
            "[nltk_data]   Package stopwords is already up-to-date!\n"
          ]
        },
        {
          "output_type": "execute_result",
          "data": {
            "text/plain": [
              "True"
            ]
          },
          "metadata": {},
          "execution_count": 46
        }
      ]
    },
    {
      "cell_type": "code",
      "source": [
        "# Define functions for stopwords, bigrams, trigrams and lemmatization\n",
        "\n",
        "stop_words = set(stopwords.words(\"english\"))\n",
        "\n",
        "\n",
        "def remove_stopwords(texts):\n",
        "    return [[word for word in simple_preprocess(str(doc)) if word not in stop_words] for doc in texts]\n",
        "\n",
        "def make_bigrams(texts):\n",
        "    return [bigram_mod[doc] for doc in texts]\n",
        "\n",
        "def make_trigrams(texts):\n",
        "    return [trigram_mod[bigram_mod[doc]] for doc in texts]\n",
        "\n",
        "def lemmatization(texts, allowed_postags=['NOUN', 'ADJ', 'VERB', 'ADV']):\n",
        "    texts_out = []\n",
        "    for sent in texts:\n",
        "        doc = nlp(\" \".join(sent)) \n",
        "        texts_out.append([token.lemma_ for token in doc if token.pos_ in allowed_postags])\n",
        "    return texts_out"
      ],
      "metadata": {
        "id": "hdj7mn34Hmy_"
      },
      "execution_count": null,
      "outputs": []
    },
    {
      "cell_type": "code",
      "source": [
        "# Remove Stop Words\n",
        "data_words_nostops = remove_stopwords(data_words)\n",
        "\n",
        "# Form Bigrams\n",
        "data_words_bigrams = make_bigrams(data_words_nostops)\n",
        "\n",
        "# Initialize spacy 'en' model, keeping only tagger component (for efficiency)\n",
        "# python3 -m spacy download en\n",
        "nlp = spacy.load('en', disable=['parser', 'ner'])\n",
        "\n",
        "# Do lemmatization keeping only noun, adj, vb, adv\n",
        "data_lemmatized = lemmatization(data_words_bigrams, allowed_postags=['NOUN', 'ADJ', 'VERB', 'ADV'])\n",
        "\n",
        "print(data_lemmatized[:1])"
      ],
      "metadata": {
        "id": "CcxRL2uLHslL",
        "outputId": "d36ecca6-e2d1-4661-92d5-3f013adf572a",
        "colab": {
          "base_uri": "https://localhost:8080/"
        }
      },
      "execution_count": null,
      "outputs": [
        {
          "output_type": "stream",
          "name": "stdout",
          "text": [
            "[['ask', 'illness', 'be', 'similar', 'tend', 'moodiness', 'involved', 'impulsivity', 'self', 'damaging', 'behavior', 'compensatory', 'measure', 'otherwise', 'be', 'really', 'similar', 'seem', 'one', 'often', 'show', 'person', 'make', 'live', 'chaotic', 'difficult', 'dysfunctional', 'intense', 'friend', 'concern', 'may', 'illness', 'ashamed', 'definitely', 'fault', 'instead', 'get', 'help', 'professional', 'insist', 'treat', 'appropriately', 'correct', 'type', 'therapy', 'medication']]\n"
          ]
        }
      ]
    },
    {
      "cell_type": "code",
      "source": [
        "dataset = []\n",
        "for i in range(len(data_lemmatized)):\n",
        "    dataset.append(\" \".join(data_lemmatized[i]))\n",
        "dataset = pd.Series(dataset)"
      ],
      "metadata": {
        "id": "zMZnF38CIDut"
      },
      "execution_count": null,
      "outputs": []
    },
    {
      "cell_type": "code",
      "source": [
        "no_features = 15000\n",
        "\n",
        "# NMF is able to use tf-idf\n",
        "tfidf_vectorizer = TfidfVectorizer(ngram_range=(1,3), max_features=no_features)\n",
        "tfidf = tfidf_vectorizer.fit_transform(dataset)\n",
        "tfidf_feature_names = tfidf_vectorizer.get_feature_names()\n",
        "\n",
        "# LDA can only use raw term counts for LDA because it is a probabilistic graphical model\n",
        "tf_vectorizer = CountVectorizer(min_df=0.05,max_features=no_features)\n",
        "tf = tf_vectorizer.fit_transform(dataset)\n",
        "tf_feature_names = tf_vectorizer.get_feature_names()"
      ],
      "metadata": {
        "id": "r9RuEE5NIL_p"
      },
      "execution_count": null,
      "outputs": []
    },
    {
      "cell_type": "code",
      "source": [
        "no_topics = 2\n",
        "\n",
        "# Run NMF\n",
        "nmf = NMF(n_components=no_topics, random_state=1, alpha=.1, l1_ratio=.5,max_iter=10000).fit(tfidf)\n",
        "\n",
        "# Run LDA\n",
        "lda = LatentDirichletAllocation(n_components=no_topics, max_iter=10, learning_method='online', learning_offset=50.,random_state=0).fit(tf)"
      ],
      "metadata": {
        "id": "Z81SXd5RIOBX"
      },
      "execution_count": null,
      "outputs": []
    },
    {
      "cell_type": "code",
      "source": [
        "def display_topics(model, feature_names, no_top_words):\n",
        "    for topic_idx, topic in enumerate(model.components_):\n",
        "        print(\"Topic %d:\" % (topic_idx))\n",
        "        print(\", \".join([feature_names[i] for i in topic.argsort()[:-no_top_words - 1:-1]]))\n",
        "\n",
        "no_top_words = 25\n",
        "print('NMF')\n",
        "display_topics(nmf, tfidf_feature_names, no_top_words)\n",
        "print('LDA')\n",
        "display_topics(lda, tf_feature_names, no_top_words)"
      ],
      "metadata": {
        "id": "krngklGxIQd_",
        "outputId": "7144fb15-023e-4e1e-cbdd-4ce518b315bf",
        "colab": {
          "base_uri": "https://localhost:8080/"
        }
      },
      "execution_count": null,
      "outputs": [
        {
          "output_type": "stream",
          "name": "stdout",
          "text": [
            "NMF\n",
            "Topic 0:\n",
            "be, go, help, take, feel, get, know, time, med, make, try, thing, day, work, would, people, need, have, think, life, good, want, year, say, find\n",
            "Topic 1:\n",
            "anxiety, depression, depression anxiety, bipolar, anxiety depression, take, bipolar depression anxiety, bipolar depression, help anxiety, severe, disorder, help, work, anxiety attack, attack, also, severe anxiety, suffer, bipolar anxiety, symptom, anxiety disorder, med, anxiety take, high, anxiety med\n",
            "LDA\n",
            "Topic 0:\n",
            "be, feel, go, know, day, people, get, time, think, say, life, want, thing, have, make, would, struggle, even, love, try, can, understand, tell, good, way\n",
            "Topic 1:\n",
            "anxiety, take, help, med, work, depression, also, bipolar, get, need, find, medication, try, doctor, year, may, make, well, go, use, disorder, sleep, good, time, would\n"
          ]
        }
      ]
    },
    {
      "cell_type": "code",
      "source": [
        "# Create Document — Topic Matrix\n",
        "lda_output = lda.transform(tf)\n",
        "# column names\n",
        "topicnames = ['Topic' + str(i) for i in range(lda.n_components)]\n",
        "# index names\n",
        "docnames = ['Doc' + str(i) for i in range(len(dataset))]\n",
        "# Make the pandas dataframe\n",
        "df_document_topic = pd.DataFrame(np.round(lda_output, 2), columns=topicnames, index=docnames)\n",
        "# Get dominant topic for each document\n",
        "dominant_topic = np.argmax(df_document_topic.values, axis=1)\n",
        "df_document_topic['dominant_topic'] = dominant_topic\n",
        "\n",
        "df_document_topics = df_document_topic\n",
        "path2 = '/content/gdrive/MyDrive/Project/dep_excel_2.xlsx'\n",
        "dataset2 = pd.read_excel(path2)\n",
        "df_document_topics.reset_index(inplace=True,drop=True)\n",
        "dataset2['label'] = df_document_topics['dominant_topic']\n"
      ],
      "metadata": {
        "id": "nrcoqvfPIUmn"
      },
      "execution_count": null,
      "outputs": []
    },
    {
      "cell_type": "code",
      "source": [
        "dataset2.describe"
      ],
      "metadata": {
        "id": "zPihdVo2IZBv",
        "outputId": "80b14c33-a930-4056-9c13-7ee1a3f128c2",
        "colab": {
          "base_uri": "https://localhost:8080/"
        }
      },
      "execution_count": null,
      "outputs": [
        {
          "output_type": "execute_result",
          "data": {
            "text/plain": [
              "<bound method NDFrame.describe of                                           Comments Text  label\n",
              "0     So, when you ask what the two illnesses are......      0\n",
              "1     In addition, people with BPD quite often have ...      0\n",
              "2     Borderline Personality Disorder, like all othe...      0\n",
              "3     LONG ANSWER: Bipolar disease is caused by a ch...      1\n",
              "4     Well think of bipolar as a rollar coaster you ...      0\n",
              "...                                                 ...    ...\n",
              "7140  Please contact SADAG (south African depression...      1\n",
              "7141  It gave me severe ataxia.  (ataxia = People wi...      1\n",
              "7142  I have. Caused muscles to tense up swelling an...      1\n",
              "7143  Lamictal is my miracle med.Only took me 26 yea...      1\n",
              "7144  I take Wellbutrin, topamax, and buspar (antide...      1\n",
              "\n",
              "[7145 rows x 2 columns]>"
            ]
          },
          "metadata": {},
          "execution_count": 86
        }
      ]
    },
    {
      "cell_type": "code",
      "source": [
        "# Create Document — Topic Matrix\n",
        "nmf_output = nmf.transform(tfidf)\n",
        "# column names\n",
        "topicnames = ['Topic' + str(i) for i in range(nmf.n_components)]\n",
        "# index names\n",
        "docnames = ['Doc' + str(i) for i in range(len(dataset))]\n",
        "# Make the pandas dataframe\n",
        "df_document_topic = pd.DataFrame(np.round(nmf_output, 2), columns=topicnames, index=docnames)\n",
        "# Get dominant topic for each document\n",
        "dominant_topic = np.argmax(df_document_topic.values, axis=1)\n",
        "df_document_topic['dominant_topic'] = dominant_topic\n",
        "\n",
        "df_document_topics = df_document_topic\n",
        "dataset1 = pd.read_excel('/content/gdrive/MyDrive/Project/dep_excel.xlsx')\n",
        "df_document_topics.reset_index(inplace=True,drop=True)\n",
        "dataset1['label'] = df_document_topics['dominant_topic']"
      ],
      "metadata": {
        "id": "06mKCkICI1E6"
      },
      "execution_count": null,
      "outputs": []
    },
    {
      "cell_type": "code",
      "source": [
        "dataset1.describe"
      ],
      "metadata": {
        "id": "HmqZrhLFJBzb",
        "outputId": "e126907e-3f2d-4801-ad1b-a85389dcecdf",
        "colab": {
          "base_uri": "https://localhost:8080/"
        }
      },
      "execution_count": null,
      "outputs": [
        {
          "output_type": "execute_result",
          "data": {
            "text/plain": [
              "<bound method NDFrame.describe of                                           Comments Text  label\n",
              "0     So, when you ask what the two illnesses are......      0\n",
              "1     In addition, people with BPD quite often have ...      0\n",
              "2     Borderline Personality Disorder, like all othe...      0\n",
              "3     LONG ANSWER: Bipolar disease is caused by a ch...      0\n",
              "4     Well think of bipolar as a rollar coaster you ...      0\n",
              "...                                                 ...    ...\n",
              "7140  Please contact SADAG (south African depression...      0\n",
              "7141  It gave me severe ataxia.  (ataxia = People wi...      0\n",
              "7142  I have. Caused muscles to tense up swelling an...      0\n",
              "7143  Lamictal is my miracle med.Only took me 26 yea...      0\n",
              "7144  I take Wellbutrin, topamax, and buspar (antide...      0\n",
              "\n",
              "[7145 rows x 2 columns]>"
            ]
          },
          "metadata": {},
          "execution_count": 110
        }
      ]
    },
    {
      "cell_type": "code",
      "source": [
        "dataset1[dataset1['label'] == 1] "
      ],
      "metadata": {
        "id": "7HrbWa41JGgc",
        "outputId": "2b167286-cfce-4383-fc0b-90febd358083",
        "colab": {
          "base_uri": "https://localhost:8080/",
          "height": 918
        }
      },
      "execution_count": null,
      "outputs": [
        {
          "output_type": "error",
          "ename": "TypeError",
          "evalue": "ignored",
          "traceback": [
            "\u001b[0;31m---------------------------------------------------------------------------\u001b[0m",
            "\u001b[0;31mTypeError\u001b[0m                                 Traceback (most recent call last)",
            "\u001b[0;32m<ipython-input-114-7bfd93be4d91>\u001b[0m in \u001b[0;36m<module>\u001b[0;34m()\u001b[0m\n\u001b[0;32m----> 1\u001b[0;31m \u001b[0mdataset1\u001b[0m\u001b[0;34m[\u001b[0m\u001b[0mdataset1\u001b[0m\u001b[0;34m[\u001b[0m\u001b[0;34m'label'\u001b[0m\u001b[0;34m]\u001b[0m \u001b[0;34m==\u001b[0m \u001b[0;36m1\u001b[0m\u001b[0;34m]\u001b[0m\u001b[0;34m\u001b[0m\u001b[0;34m\u001b[0m\u001b[0m\n\u001b[0m",
            "\u001b[0;32m/usr/local/lib/python3.7/dist-packages/pandas/core/ops/common.py\u001b[0m in \u001b[0;36mnew_method\u001b[0;34m(self, other)\u001b[0m\n\u001b[1;32m     63\u001b[0m                     \u001b[0;32mbreak\u001b[0m\u001b[0;34m\u001b[0m\u001b[0;34m\u001b[0m\u001b[0m\n\u001b[1;32m     64\u001b[0m                 \u001b[0;32mif\u001b[0m \u001b[0misinstance\u001b[0m\u001b[0;34m(\u001b[0m\u001b[0mother\u001b[0m\u001b[0;34m,\u001b[0m \u001b[0mcls\u001b[0m\u001b[0;34m)\u001b[0m\u001b[0;34m:\u001b[0m\u001b[0;34m\u001b[0m\u001b[0;34m\u001b[0m\u001b[0m\n\u001b[0;32m---> 65\u001b[0;31m                     \u001b[0;32mreturn\u001b[0m \u001b[0mNotImplemented\u001b[0m\u001b[0;34m\u001b[0m\u001b[0;34m\u001b[0m\u001b[0m\n\u001b[0m\u001b[1;32m     66\u001b[0m \u001b[0;34m\u001b[0m\u001b[0m\n\u001b[1;32m     67\u001b[0m         \u001b[0mother\u001b[0m \u001b[0;34m=\u001b[0m \u001b[0mitem_from_zerodim\u001b[0m\u001b[0;34m(\u001b[0m\u001b[0mother\u001b[0m\u001b[0;34m)\u001b[0m\u001b[0;34m\u001b[0m\u001b[0;34m\u001b[0m\u001b[0m\n",
            "\u001b[0;32m/usr/local/lib/python3.7/dist-packages/pandas/core/ops/__init__.py\u001b[0m in \u001b[0;36mwrapper\u001b[0;34m(self, other)\u001b[0m\n\u001b[1;32m    368\u001b[0m     \u001b[0;31m#  to avoid constructing two potentially large/sparse DataFrames\u001b[0m\u001b[0;34m\u001b[0m\u001b[0;34m\u001b[0m\u001b[0;34m\u001b[0m\u001b[0m\n\u001b[1;32m    369\u001b[0m     join_columns, _, _ = left.columns.join(\n\u001b[0;32m--> 370\u001b[0;31m         \u001b[0mright\u001b[0m\u001b[0;34m.\u001b[0m\u001b[0mcolumns\u001b[0m\u001b[0;34m,\u001b[0m \u001b[0mhow\u001b[0m\u001b[0;34m=\u001b[0m\u001b[0;34m\"outer\"\u001b[0m\u001b[0;34m,\u001b[0m \u001b[0mlevel\u001b[0m\u001b[0;34m=\u001b[0m\u001b[0;32mNone\u001b[0m\u001b[0;34m,\u001b[0m \u001b[0mreturn_indexers\u001b[0m\u001b[0;34m=\u001b[0m\u001b[0;32mTrue\u001b[0m\u001b[0;34m\u001b[0m\u001b[0;34m\u001b[0m\u001b[0m\n\u001b[0m\u001b[1;32m    371\u001b[0m     )\n\u001b[1;32m    372\u001b[0m \u001b[0;34m\u001b[0m\u001b[0m\n",
            "\u001b[0;32m/usr/local/lib/python3.7/dist-packages/pandas/core/ops/array_ops.py\u001b[0m in \u001b[0;36mcomparison_op\u001b[0;34m(left, right, op)\u001b[0m\n\u001b[1;32m    249\u001b[0m     \u001b[0mrvalues\u001b[0m \u001b[0;34m=\u001b[0m \u001b[0mensure_wrapped_if_datetimelike\u001b[0m\u001b[0;34m(\u001b[0m\u001b[0mright\u001b[0m\u001b[0;34m)\u001b[0m\u001b[0;34m\u001b[0m\u001b[0;34m\u001b[0m\u001b[0m\n\u001b[1;32m    250\u001b[0m \u001b[0;34m\u001b[0m\u001b[0m\n\u001b[0;32m--> 251\u001b[0;31m     \u001b[0mrvalues\u001b[0m \u001b[0;34m=\u001b[0m \u001b[0mlib\u001b[0m\u001b[0;34m.\u001b[0m\u001b[0mitem_from_zerodim\u001b[0m\u001b[0;34m(\u001b[0m\u001b[0mrvalues\u001b[0m\u001b[0;34m)\u001b[0m\u001b[0;34m\u001b[0m\u001b[0;34m\u001b[0m\u001b[0m\n\u001b[0m\u001b[1;32m    252\u001b[0m     \u001b[0;32mif\u001b[0m \u001b[0misinstance\u001b[0m\u001b[0;34m(\u001b[0m\u001b[0mrvalues\u001b[0m\u001b[0;34m,\u001b[0m \u001b[0mlist\u001b[0m\u001b[0;34m)\u001b[0m\u001b[0;34m:\u001b[0m\u001b[0;34m\u001b[0m\u001b[0;34m\u001b[0m\u001b[0m\n\u001b[1;32m    253\u001b[0m         \u001b[0;31m# TODO: same for tuples?\u001b[0m\u001b[0;34m\u001b[0m\u001b[0;34m\u001b[0m\u001b[0;34m\u001b[0m\u001b[0m\n",
            "\u001b[0;32m/usr/local/lib/python3.7/dist-packages/pandas/core/ops/array_ops.py\u001b[0m in \u001b[0;36mna_arithmetic_op\u001b[0;34m(left, right, op, is_cmp)\u001b[0m\n\u001b[1;32m    138\u001b[0m \u001b[0;32mdef\u001b[0m \u001b[0m_na_arithmetic_op\u001b[0m\u001b[0;34m(\u001b[0m\u001b[0mleft\u001b[0m\u001b[0;34m,\u001b[0m \u001b[0mright\u001b[0m\u001b[0;34m,\u001b[0m \u001b[0mop\u001b[0m\u001b[0;34m,\u001b[0m \u001b[0mis_cmp\u001b[0m\u001b[0;34m:\u001b[0m \u001b[0mbool\u001b[0m \u001b[0;34m=\u001b[0m \u001b[0;32mFalse\u001b[0m\u001b[0;34m)\u001b[0m\u001b[0;34m:\u001b[0m\u001b[0;34m\u001b[0m\u001b[0;34m\u001b[0m\u001b[0m\n\u001b[1;32m    139\u001b[0m     \"\"\"\n\u001b[0;32m--> 140\u001b[0;31m     \u001b[0mReturn\u001b[0m \u001b[0mthe\u001b[0m \u001b[0mresult\u001b[0m \u001b[0mof\u001b[0m \u001b[0mevaluating\u001b[0m \u001b[0mop\u001b[0m \u001b[0mon\u001b[0m \u001b[0mthe\u001b[0m \u001b[0mpassed\u001b[0m \u001b[0;32min\u001b[0m \u001b[0mvalues\u001b[0m\u001b[0;34m.\u001b[0m\u001b[0;34m\u001b[0m\u001b[0;34m\u001b[0m\u001b[0m\n\u001b[0m\u001b[1;32m    141\u001b[0m \u001b[0;34m\u001b[0m\u001b[0m\n\u001b[1;32m    142\u001b[0m     \u001b[0mIf\u001b[0m \u001b[0mnative\u001b[0m \u001b[0mtypes\u001b[0m \u001b[0mare\u001b[0m \u001b[0;32mnot\u001b[0m \u001b[0mcompatible\u001b[0m\u001b[0;34m,\u001b[0m \u001b[0;32mtry\u001b[0m \u001b[0mcoercion\u001b[0m \u001b[0mto\u001b[0m \u001b[0mobject\u001b[0m \u001b[0mdtype\u001b[0m\u001b[0;34m.\u001b[0m\u001b[0;34m\u001b[0m\u001b[0;34m\u001b[0m\u001b[0m\n",
            "\u001b[0;32m/usr/local/lib/python3.7/dist-packages/pandas/core/computation/expressions.py\u001b[0m in \u001b[0;36m<module>\u001b[0;34m()\u001b[0m\n\u001b[1;32m     17\u001b[0m \u001b[0;32mfrom\u001b[0m \u001b[0mpandas\u001b[0m\u001b[0;34m.\u001b[0m\u001b[0m_typing\u001b[0m \u001b[0;32mimport\u001b[0m \u001b[0mFuncType\u001b[0m\u001b[0;34m\u001b[0m\u001b[0;34m\u001b[0m\u001b[0m\n\u001b[1;32m     18\u001b[0m \u001b[0;34m\u001b[0m\u001b[0m\n\u001b[0;32m---> 19\u001b[0;31m \u001b[0;32mfrom\u001b[0m \u001b[0mpandas\u001b[0m\u001b[0;34m.\u001b[0m\u001b[0mcore\u001b[0m\u001b[0;34m.\u001b[0m\u001b[0mcomputation\u001b[0m\u001b[0;34m.\u001b[0m\u001b[0mcheck\u001b[0m \u001b[0;32mimport\u001b[0m \u001b[0mNUMEXPR_INSTALLED\u001b[0m\u001b[0;34m\u001b[0m\u001b[0;34m\u001b[0m\u001b[0m\n\u001b[0m\u001b[1;32m     20\u001b[0m \u001b[0;32mfrom\u001b[0m \u001b[0mpandas\u001b[0m\u001b[0;34m.\u001b[0m\u001b[0mcore\u001b[0m\u001b[0;34m.\u001b[0m\u001b[0mops\u001b[0m \u001b[0;32mimport\u001b[0m \u001b[0mroperator\u001b[0m\u001b[0;34m\u001b[0m\u001b[0;34m\u001b[0m\u001b[0m\n\u001b[1;32m     21\u001b[0m \u001b[0;34m\u001b[0m\u001b[0m\n",
            "\u001b[0;32m/usr/local/lib/python3.7/dist-packages/pandas/core/computation/check.py\u001b[0m in \u001b[0;36m<module>\u001b[0;34m()\u001b[0m\n\u001b[1;32m      1\u001b[0m \u001b[0;32mfrom\u001b[0m \u001b[0mpandas\u001b[0m\u001b[0;34m.\u001b[0m\u001b[0mcompat\u001b[0m\u001b[0;34m.\u001b[0m\u001b[0m_optional\u001b[0m \u001b[0;32mimport\u001b[0m \u001b[0mimport_optional_dependency\u001b[0m\u001b[0;34m\u001b[0m\u001b[0;34m\u001b[0m\u001b[0m\n\u001b[1;32m      2\u001b[0m \u001b[0;34m\u001b[0m\u001b[0m\n\u001b[0;32m----> 3\u001b[0;31m \u001b[0mne\u001b[0m \u001b[0;34m=\u001b[0m \u001b[0mimport_optional_dependency\u001b[0m\u001b[0;34m(\u001b[0m\u001b[0;34m\"numexpr\"\u001b[0m\u001b[0;34m,\u001b[0m \u001b[0merrors\u001b[0m\u001b[0;34m=\u001b[0m\u001b[0;34m\"warn\"\u001b[0m\u001b[0;34m)\u001b[0m\u001b[0;34m\u001b[0m\u001b[0;34m\u001b[0m\u001b[0m\n\u001b[0m\u001b[1;32m      4\u001b[0m \u001b[0mNUMEXPR_INSTALLED\u001b[0m \u001b[0;34m=\u001b[0m \u001b[0mne\u001b[0m \u001b[0;32mis\u001b[0m \u001b[0;32mnot\u001b[0m \u001b[0;32mNone\u001b[0m\u001b[0;34m\u001b[0m\u001b[0;34m\u001b[0m\u001b[0m\n\u001b[1;32m      5\u001b[0m \u001b[0;32mif\u001b[0m \u001b[0mNUMEXPR_INSTALLED\u001b[0m\u001b[0;34m:\u001b[0m\u001b[0;34m\u001b[0m\u001b[0;34m\u001b[0m\u001b[0m\n",
            "\u001b[0;31mTypeError\u001b[0m: import_optional_dependency() got an unexpected keyword argument 'errors'"
          ]
        }
      ]
    },
    {
      "cell_type": "code",
      "source": [
        "# Convert to list\n",
        "data = dataset1['Comments Text'].values.tolist()\n",
        "\n",
        "# Remove Emails\n",
        "data = [re.sub('\\S*@\\S*\\s?', '', sent) for sent in data]\n",
        "\n",
        "# Remove new line characters\n",
        "data = [re.sub('\\s+', ' ', sent) for sent in data]\n",
        "\n",
        "# Remove distracting single quotes\n",
        "data = [re.sub(\"\\'\", \"\", sent) for sent in data]\n",
        "\n",
        "# Remove distracting commas\n",
        "data = [re.sub(\",\", \"\", sent) for sent in data]\n",
        "\n",
        "# Remove distracting commas\n",
        "data = [sent.lower() for sent in data]\n",
        "\n",
        "# Remove distracting dots\n",
        "data = [sent.replace('.', '') for sent in data]\n",
        "\n",
        "print(data[:1])\n"
      ],
      "metadata": {
        "id": "KiOqH0XxJKIF",
        "outputId": "9e2d2f45-3de3-40ea-9fe9-f61728c34ce6",
        "colab": {
          "base_uri": "https://localhost:8080/"
        }
      },
      "execution_count": null,
      "outputs": [
        {
          "output_type": "stream",
          "name": "stdout",
          "text": [
            "['so when you ask what the two illnesses aretheyre similar in that they tend to have moodiness involved impulsivity and self-damaging behaviors for compensatory measures otherwise theyre not really that similar but they do seem to \"like\" one another and often show up in the same personmaking their lives chaotic difficult dysfunctional and intense so if your friend is concerned that they may have one (or both) of these illnesses they should not be ashamed its definitely not their fault they should instead get help from a professionaland insist that they are treated appropriately with the correct types of therapy and medication']\n"
          ]
        }
      ]
    },
    {
      "cell_type": "code",
      "source": [
        "tweets = np.array(data)\n",
        "labels = np.array(dataset2['label'])"
      ],
      "metadata": {
        "id": "po0wlej2SuZp"
      },
      "execution_count": null,
      "outputs": []
    },
    {
      "cell_type": "code",
      "source": [
        "print(len(tweets),len(labels))"
      ],
      "metadata": {
        "id": "0RmiujaSSxY5",
        "outputId": "28de5361-d140-43df-e6ef-23bc483a5487",
        "colab": {
          "base_uri": "https://localhost:8080/"
        }
      },
      "execution_count": null,
      "outputs": [
        {
          "output_type": "stream",
          "name": "stdout",
          "text": [
            "7145 7145\n"
          ]
        }
      ]
    },
    {
      "cell_type": "code",
      "source": [
        "!pip install keras"
      ],
      "metadata": {
        "id": "KeFkb3SsS2-N",
        "outputId": "677c834f-151d-42ea-d339-67737f0e7a08",
        "colab": {
          "base_uri": "https://localhost:8080/"
        }
      },
      "execution_count": null,
      "outputs": [
        {
          "output_type": "stream",
          "name": "stdout",
          "text": [
            "Requirement already satisfied: keras in /usr/local/lib/python3.7/dist-packages (2.7.0)\n"
          ]
        }
      ]
    },
    {
      "cell_type": "code",
      "source": [
        "from keras.models import Sequential\n",
        "from keras import layers\n",
        "#from keras.optimizers import RMSprop\n",
        "from keras.preprocessing.text import Tokenizer\n",
        "from keras.preprocessing.sequence import pad_sequences\n",
        "from keras import regularizers\n",
        "max_words = 20000\n",
        "max_len = 400\n",
        "\n",
        "tokenizer = Tokenizer(num_words=max_words)\n",
        "tokenizer.fit_on_texts(tweets)\n",
        "sequences = tokenizer.texts_to_sequences(tweets)\n",
        "tweets = pad_sequences(sequences, maxlen=max_len)\n",
        "print(tweets)"
      ],
      "metadata": {
        "id": "tAuFvcTbSzVy",
        "outputId": "66c7b64b-e8ae-40d5-d290-708fdc93dcc9",
        "colab": {
          "base_uri": "https://localhost:8080/"
        }
      },
      "execution_count": null,
      "outputs": [
        {
          "output_type": "stream",
          "name": "stdout",
          "text": [
            "[[   0    0    0 ...  213    2  116]\n",
            " [   4  145 1962 ...  276    2 6012]\n",
            " [   2   33 8154 ...   33    4  114]\n",
            " ...\n",
            " [   0    0    0 ...    2  290  439]\n",
            " [   0    0    0 ...  160  219  244]\n",
            " [   0    0    0 ...   10   72   58]]\n"
          ]
        }
      ]
    },
    {
      "cell_type": "code",
      "source": [
        "X_train, X_test, y_train, y_test = train_test_split(tweets,labels, random_state=0)\n",
        "print (len(X_train),len(X_test),len(y_train),len(y_test))"
      ],
      "metadata": {
        "id": "M_y4q1EdS1XH",
        "outputId": "345c211a-705c-46ac-b97a-0901d24fb215",
        "colab": {
          "base_uri": "https://localhost:8080/"
        }
      },
      "execution_count": null,
      "outputs": [
        {
          "output_type": "stream",
          "name": "stdout",
          "text": [
            "5358 1787 5358 1787\n"
          ]
        }
      ]
    },
    {
      "cell_type": "code",
      "source": [
        "model1 = Sequential()\n",
        "model1.add(layers.Embedding(max_words, 40))\n",
        "model1.add(layers.LSTM(40,dropout=0.5))\n",
        "model1.add(layers.Dense(1,activation='sigmoid'))\n",
        "\n",
        "model1.compile(optimizer='rmsprop',loss='binary_crossentropy', metrics=['accuracy'])\n",
        "\n",
        "history = model1.fit(X_train, y_train, epochs=7,validation_data=(X_test, y_test))"
      ],
      "metadata": {
        "id": "tYPC3zc2S__S",
        "outputId": "d8adbd41-912f-490b-b0f6-542a9a8e171d",
        "colab": {
          "base_uri": "https://localhost:8080/"
        }
      },
      "execution_count": null,
      "outputs": [
        {
          "output_type": "stream",
          "name": "stdout",
          "text": [
            "Epoch 1/7\n",
            "168/168 [==============================] - 41s 227ms/step - loss: 0.5734 - accuracy: 0.6915 - val_loss: 0.3896 - val_accuracy: 0.8327\n",
            "Epoch 2/7\n",
            "168/168 [==============================] - 37s 223ms/step - loss: 0.3340 - accuracy: 0.8667 - val_loss: 0.2727 - val_accuracy: 0.8870\n",
            "Epoch 3/7\n",
            "168/168 [==============================] - 37s 220ms/step - loss: 0.2596 - accuracy: 0.9044 - val_loss: 0.2519 - val_accuracy: 0.8920\n",
            "Epoch 4/7\n",
            "168/168 [==============================] - 37s 220ms/step - loss: 0.2229 - accuracy: 0.9175 - val_loss: 0.3677 - val_accuracy: 0.8651\n",
            "Epoch 5/7\n",
            "168/168 [==============================] - 37s 221ms/step - loss: 0.1882 - accuracy: 0.9330 - val_loss: 0.2507 - val_accuracy: 0.8993\n",
            "Epoch 6/7\n",
            "168/168 [==============================] - 38s 224ms/step - loss: 0.1661 - accuracy: 0.9408 - val_loss: 0.2437 - val_accuracy: 0.8987\n",
            "Epoch 7/7\n",
            "168/168 [==============================] - 37s 221ms/step - loss: 0.1402 - accuracy: 0.9505 - val_loss: 0.3910 - val_accuracy: 0.8685\n"
          ]
        }
      ]
    },
    {
      "cell_type": "code",
      "source": [
        "test_loss, test_acc = model1.evaluate(X_test,  y_test, verbose=2)\n",
        "print('Model accuracy: ',test_acc)"
      ],
      "metadata": {
        "id": "NeWGWnCfTCVQ",
        "outputId": "908712f4-1ccc-46b9-ef2f-a4fc400b0c43",
        "colab": {
          "base_uri": "https://localhost:8080/"
        }
      },
      "execution_count": null,
      "outputs": [
        {
          "output_type": "stream",
          "name": "stdout",
          "text": [
            "56/56 - 2s - loss: 0.3910 - accuracy: 0.8685 - 2s/epoch - 35ms/step\n",
            "Model accuracy:  0.8684946894645691\n"
          ]
        }
      ]
    },
    {
      "cell_type": "code",
      "source": [
        "y_pred = model1.predict(X_test)"
      ],
      "metadata": {
        "id": "OSlE_AudUNie"
      },
      "execution_count": null,
      "outputs": []
    },
    {
      "cell_type": "code",
      "source": [
        "from sklearn.metrics import confusion_matrix\n",
        "matrix = confusion_matrix(y_test, np.around(y_pred, decimals=0))\n",
        "import seaborn as sns\n",
        "conf_matrix = pd.DataFrame(matrix, index = ['Not Depression/Anxiety','Anxiety/Depression'],columns = ['Not Depression/Anxiety','Anxiety/Depression'])\n",
        "#Normalizing\n",
        "conf_matrix = conf_matrix.astype('float') \n",
        "conf_matrix.sum(axis=1)[:, np.newaxis]\n",
        "plt.figure(figsize = (15,15))\n",
        "sns.heatmap(conf_matrix, annot=True, annot_kws={\"size\": 15})"
      ],
      "metadata": {
        "id": "72LtlvuVUTb6",
        "outputId": "e0aebde3-d018-4dfc-99ec-6670b8323791",
        "colab": {
          "base_uri": "https://localhost:8080/",
          "height": 880
        }
      },
      "execution_count": null,
      "outputs": [
        {
          "output_type": "execute_result",
          "data": {
            "text/plain": [
              "<matplotlib.axes._subplots.AxesSubplot at 0x7f2199836710>"
            ]
          },
          "metadata": {},
          "execution_count": 128
        },
        {
          "output_type": "display_data",
          "data": {
            "image/png": "[encoded data removed]",
            "text/plain": [
              "<Figure size 1080x1080 with 2 Axes>"
            ]
          },
          "metadata": {
            "needs_background": "light"
          }
        }
      ]
    },
    {
      "cell_type": "code",
      "source": [
        "model2 = Sequential()\n",
        "model2.add(layers.Embedding(max_words, 40))\n",
        "model2.add(layers.LSTM(40,dropout=0.5,return_sequences=True))\n",
        "model2.add(layers.LSTM(40,dropout=0.5))\n",
        "model2.add(layers.Dense(1,activation='sigmoid'))\n",
        "\n",
        "model2.compile(optimizer='rmsprop',loss='binary_crossentropy', metrics=['accuracy'])\n",
        "\n",
        "history = model2.fit(X_train, y_train, epochs=5,validation_data=(X_test, y_test))"
      ],
      "metadata": {
        "id": "R_RsDaboUVEY",
        "outputId": "f644ac09-3cbb-4ab7-8781-ce449ce2961c",
        "colab": {
          "base_uri": "https://localhost:8080/"
        }
      },
      "execution_count": null,
      "outputs": [
        {
          "output_type": "stream",
          "name": "stdout",
          "text": [
            "Epoch 1/5\n",
            "168/168 [==============================] - 77s 436ms/step - loss: 0.5426 - accuracy: 0.7152 - val_loss: 0.3651 - val_accuracy: 0.8411\n",
            "Epoch 2/5\n",
            "168/168 [==============================] - 71s 424ms/step - loss: 0.3261 - accuracy: 0.8703 - val_loss: 0.2995 - val_accuracy: 0.8791\n",
            "Epoch 3/5\n",
            "168/168 [==============================] - 73s 437ms/step - loss: 0.2384 - accuracy: 0.9093 - val_loss: 0.2810 - val_accuracy: 0.8808\n",
            "Epoch 4/5\n",
            "168/168 [==============================] - 74s 443ms/step - loss: 0.1895 - accuracy: 0.9267 - val_loss: 0.3536 - val_accuracy: 0.8478\n",
            "Epoch 5/5\n",
            "168/168 [==============================] - 74s 441ms/step - loss: 0.1650 - accuracy: 0.9393 - val_loss: 0.4272 - val_accuracy: 0.8556\n"
          ]
        }
      ]
    },
    {
      "cell_type": "code",
      "source": [
        "test_loss, test_acc = model2.evaluate(X_test,  y_test, verbose=2)\n",
        "print('Model accuracy: ',test_acc)"
      ],
      "metadata": {
        "id": "Oc0qkEFxUkQT",
        "outputId": "f70ddb88-adce-43ec-89d7-163261c725cc",
        "colab": {
          "base_uri": "https://localhost:8080/"
        }
      },
      "execution_count": null,
      "outputs": [
        {
          "output_type": "stream",
          "name": "stdout",
          "text": [
            "56/56 - 4s - loss: 0.4272 - accuracy: 0.8556 - 4s/epoch - 73ms/step\n",
            "Model accuracy:  0.8556239604949951\n"
          ]
        }
      ]
    },
    {
      "cell_type": "code",
      "source": [
        "y_pred = model2.predict(X_test)"
      ],
      "metadata": {
        "id": "cmgpN3VmU1TQ"
      },
      "execution_count": null,
      "outputs": []
    },
    {
      "cell_type": "code",
      "source": [
        "matrix = confusion_matrix(y_test, np.around(y_pred, decimals=0))\n",
        "conf_matrix = pd.DataFrame(matrix, index = ['Not Depression/Anxiety','Anxiety/Depression'],columns = ['Not Depression/Anxiety','Anxiety/Depression'])\n",
        "#Normalizing\n",
        "conf_matrix = conf_matrix.astype('float') \n",
        "conf_matrix.sum(axis=1)[:, np.newaxis]\n",
        "plt.figure(figsize = (15,15))\n",
        "sns.heatmap(conf_matrix, annot=True, annot_kws={\"size\": 15})"
      ],
      "metadata": {
        "id": "ZZXSM6NAU3Ma",
        "outputId": "3527bd8f-d2a2-45f4-8be6-5c8d41d01f99",
        "colab": {
          "base_uri": "https://localhost:8080/",
          "height": 880
        }
      },
      "execution_count": null,
      "outputs": [
        {
          "output_type": "execute_result",
          "data": {
            "text/plain": [
              "<matplotlib.axes._subplots.AxesSubplot at 0x7f21800618d0>"
            ]
          },
          "metadata": {},
          "execution_count": 133
        },
        {
          "output_type": "display_data",
          "data": {
            "image/png": "[encoded data removed]",
            "text/plain": [
              "<Figure size 1080x1080 with 2 Axes>"
            ]
          },
          "metadata": {
            "needs_background": "light"
          }
        }
      ]
    },
    {
      "cell_type": "code",
      "source": [
        "model3 = Sequential()\n",
        "model3.add(layers.Embedding(max_words, 40))\n",
        "model3.add(layers.Bidirectional(layers.LSTM(40,dropout=0.5)))\n",
        "model3.add(layers.Dense(1,activation='sigmoid'))\n",
        "\n",
        "model3.compile(optimizer='rmsprop',loss='binary_crossentropy', metrics=['accuracy'])\n",
        "\n",
        "history = model3.fit(X_train, y_train, epochs=8,validation_data=(X_test, y_test))"
      ],
      "metadata": {
        "id": "JyW4YmDZWYq4",
        "outputId": "d96bce2f-56b1-4498-a7f9-27c978e1e6cf",
        "colab": {
          "base_uri": "https://localhost:8080/"
        }
      },
      "execution_count": null,
      "outputs": [
        {
          "output_type": "stream",
          "name": "stdout",
          "text": [
            "Epoch 1/8\n",
            "168/168 [==============================] - 66s 366ms/step - loss: 0.5924 - accuracy: 0.6835 - val_loss: 0.4665 - val_accuracy: 0.8019\n",
            "Epoch 2/8\n",
            "168/168 [==============================] - 62s 367ms/step - loss: 0.3631 - accuracy: 0.8544 - val_loss: 0.2928 - val_accuracy: 0.8830\n",
            "Epoch 3/8\n",
            "168/168 [==============================] - 62s 369ms/step - loss: 0.2577 - accuracy: 0.9072 - val_loss: 0.2777 - val_accuracy: 0.8875\n",
            "Epoch 4/8\n",
            "168/168 [==============================] - 62s 370ms/step - loss: 0.2599 - accuracy: 0.9121 - val_loss: 0.2626 - val_accuracy: 0.8926\n",
            "Epoch 5/8\n",
            "168/168 [==============================] - 62s 369ms/step - loss: 0.1995 - accuracy: 0.9306 - val_loss: 0.3044 - val_accuracy: 0.8881\n",
            "Epoch 6/8\n",
            "168/168 [==============================] - 63s 375ms/step - loss: 0.1580 - accuracy: 0.9446 - val_loss: 0.3068 - val_accuracy: 0.8691\n",
            "Epoch 7/8\n",
            "168/168 [==============================] - 63s 373ms/step - loss: 0.1427 - accuracy: 0.9526 - val_loss: 0.2794 - val_accuracy: 0.8970\n",
            "Epoch 8/8\n",
            "168/168 [==============================] - 62s 372ms/step - loss: 0.1329 - accuracy: 0.9546 - val_loss: 0.2880 - val_accuracy: 0.8948\n"
          ]
        }
      ]
    },
    {
      "cell_type": "code",
      "source": [
        "y_pred = model3.predict(X_test)"
      ],
      "metadata": {
        "id": "5LNr49XnWe8q"
      },
      "execution_count": null,
      "outputs": []
    },
    {
      "cell_type": "code",
      "source": [
        "matrix = confusion_matrix(y_test, np.around(y_pred, decimals=0))\n",
        "conf_matrix = pd.DataFrame(matrix, index = ['Not Depression/Anxiety','Anxiety/Depression'],columns = ['Not Depression/Anxiety','Anxiety/Depression'])\n",
        "#Normalizing\n",
        "conf_matrix = conf_matrix.astype('float') \n",
        "conf_matrix.sum(axis=1)[:, np.newaxis]\n",
        "plt.figure(figsize = (15,15))\n",
        "sns.heatmap(conf_matrix, annot=True, annot_kws={\"size\": 15})"
      ],
      "metadata": {
        "id": "y3OeDgrBWi4f",
        "outputId": "374b9132-fb1e-49a6-9ea3-cb649f87eb2a",
        "colab": {
          "base_uri": "https://localhost:8080/",
          "height": 880
        }
      },
      "execution_count": null,
      "outputs": [
        {
          "output_type": "execute_result",
          "data": {
            "text/plain": [
              "<matplotlib.axes._subplots.AxesSubplot at 0x7f217fb7c590>"
            ]
          },
          "metadata": {},
          "execution_count": 136
        },
        {
          "output_type": "display_data",
          "data": {
            "image/png": "[encoded data removed]",
            "text/plain": [
              "<Figure size 1080x1080 with 2 Axes>"
            ]
          },
          "metadata": {
            "needs_background": "light"
          }
        }
      ]
    },
    {
      "cell_type": "code",
      "source": [
        "test = np.array(['I feel stress, sadness and anxiety - just want to sleep until the lockdown ends'])\n",
        "test_sequence = tokenizer.texts_to_sequences(test)\n",
        "test_sequence = pad_sequences(test_sequence, maxlen=max_len)\n",
        "test_prediction = model3.predict(test_sequence)\n",
        "if np.around(test_prediction, decimals=0)[0][0] == 1.0:\n",
        "    print('The model predicted depressive/anxious language')\n",
        "else:\n",
        "    print(\"The model predicted other type of language\")"
      ],
      "metadata": {
        "id": "8TsoF_12YcOS",
        "outputId": "53f132b3-54bf-4efb-f221-b7edccd8b0bf",
        "colab": {
          "base_uri": "https://localhost:8080/"
        }
      },
      "execution_count": null,
      "outputs": [
        {
          "output_type": "stream",
          "name": "stdout",
          "text": [
            "The model predicted other type of language\n"
          ]
        }
      ]
    },
    {
      "cell_type": "code",
      "source": [
        "tPath = '/content/gdrive/MyDrive/Project/tweets_data'\n",
        "os.listdir(tPath)[:5]"
      ],
      "metadata": {
        "id": "PT4M_3pxatEv",
        "outputId": "be9feef3-7782-4470-8c53-2704e7910864",
        "colab": {
          "base_uri": "https://localhost:8080/"
        }
      },
      "execution_count": null,
      "outputs": [
        {
          "output_type": "execute_result",
          "data": {
            "text/plain": [
              "['0314_1.csv', '0321_5.csv', '0321_4.csv', '0321_3.csv', '0321_2.csv']"
            ]
          },
          "metadata": {},
          "execution_count": 147
        }
      ]
    },
    {
      "cell_type": "code",
      "source": [
        "tweets = pd.read_csv('/content/gdrive/MyDrive/Project/tweets_data/0314_1.csv')\n",
        "tweets.describe"
      ],
      "metadata": {
        "id": "BDzScKSRa5iY",
        "outputId": "3b5574e1-84f7-4309-87ab-6b67f394de34",
        "colab": {
          "base_uri": "https://localhost:8080/"
        }
      },
      "execution_count": null,
      "outputs": [
        {
          "output_type": "execute_result",
          "data": {
            "text/plain": [
              "<bound method NDFrame.describe of                     date  ...                                          permalink\n",
              "0    2020-03-14 23:55:21  ...  https://twitter.com/AlbertoxVazquez/status/123...\n",
              "1    2020-03-14 23:54:45  ...  https://twitter.com/TheOGKennedy/status/123897...\n",
              "2    2020-03-14 23:45:58  ...  https://twitter.com/megmarie5/status/123897468...\n",
              "3    2020-03-14 23:43:10  ...  https://twitter.com/BoozyBillsBabe/status/1238...\n",
              "4    2020-03-14 23:42:39  ...  https://twitter.com/megmarie5/status/123897385...\n",
              "..                   ...  ...                                                ...\n",
              "283  2020-03-14 00:14:34  ...  https://twitter.com/jw8c/status/12386194940981...\n",
              "284  2020-03-14 00:14:19  ...  https://twitter.com/Lumae_tinkk/status/1238619...\n",
              "285  2020-03-14 00:08:46  ...  https://twitter.com/dpink_dpanda/status/123861...\n",
              "286  2020-03-14 00:07:19  ...  https://twitter.com/Anton10937175/status/12386...\n",
              "287  2020-03-14 00:04:13  ...  https://twitter.com/intuitiveshoob/status/1238...\n",
              "\n",
              "[288 rows x 12 columns]>"
            ]
          },
          "metadata": {},
          "execution_count": 146
        }
      ]
    },
    {
      "cell_type": "code",
      "source": [
        "for dirname, _, filenames in os.walk(tPath):\n",
        "    for filename in filenames:\n",
        "        if filename!='0314_1.csv':\n",
        "            temp = pd.read_csv(os.path.join(dirname, filename))\n",
        "            tweets = pd.concat([tweets, temp], ignore_index=True)"
      ],
      "metadata": {
        "id": "DnnVSq4Xa_bu"
      },
      "execution_count": null,
      "outputs": []
    },
    {
      "cell_type": "code",
      "source": [
        "tweets.shape"
      ],
      "metadata": {
        "id": "wJLojRNDbRO0",
        "outputId": "cce18088-288d-4b48-a752-c32f71c0723c",
        "colab": {
          "base_uri": "https://localhost:8080/"
        }
      },
      "execution_count": null,
      "outputs": [
        {
          "output_type": "execute_result",
          "data": {
            "text/plain": [
              "(25425, 12)"
            ]
          },
          "metadata": {},
          "execution_count": 149
        }
      ]
    },
    {
      "cell_type": "code",
      "source": [
        "tweets.sort_values(by=['date'],inplace=True)\n",
        "tweets.reset_index(drop=True,inplace=True)\n",
        "tweets = tweets[['date','text']]"
      ],
      "metadata": {
        "id": "A4K14_8Pbbbh"
      },
      "execution_count": null,
      "outputs": []
    },
    {
      "cell_type": "code",
      "source": [
        "tweets_dataset = tweets.copy()\n",
        "tweets.describe"
      ],
      "metadata": {
        "id": "Zo3pAng9bcum",
        "outputId": "9925e384-f18f-4cae-a6ea-de04a3a1e5b3",
        "colab": {
          "base_uri": "https://localhost:8080/"
        }
      },
      "execution_count": null,
      "outputs": [
        {
          "output_type": "execute_result",
          "data": {
            "text/plain": [
              "<bound method NDFrame.describe of                       date                                               text\n",
              "0      2020-03-14 00:04:13  Damn just remembered this front bottoms show i...\n",
              "1      2020-03-14 00:07:19  hapless Dementia joe will lose to Trump, even ...\n",
              "2      2020-03-14 00:07:52                         it's making me anxious lol\n",
              "3      2020-03-14 00:08:46  I’m so glad my depression kicked in I’m going ...\n",
              "4      2020-03-14 00:11:16         Have some wine . You’ll feel less anxious.\n",
              "...                    ...                                                ...\n",
              "25420  2020-08-08 15:30:00  Betty Gabriela Rodríguez tiene como causa busc...\n",
              "25421  2020-08-08 15:30:00  Betty Gabriela Rodríguez tiene como causa busc...\n",
              "25422  2020-08-08 17:37:54  SpaceX lanza al espacio 57 satélites para serv...\n",
              "25423  2020-08-10 13:45:17  Navegá todo el día con tu bono HOY de 10 GB so...\n",
              "25424  2020-08-10 13:45:17  Navegá todo el día con tu bono HOY de 10 GB so...\n",
              "\n",
              "[25425 rows x 2 columns]>"
            ]
          },
          "metadata": {},
          "execution_count": 151
        }
      ]
    },
    {
      "cell_type": "code",
      "source": [
        "#Removing non-ascii characters (for example, arabian chars)\n",
        "tweets.text.replace({r'[^\\x00-\\x7F]+':''}, regex=True, inplace=True)\n",
        "#Making all fields string type\n",
        "for i in range(len(tweets)):\n",
        "  tweets.at[i,'text'] = str(tweets.iloc[i]['text'])\n",
        "#Removing URLs\n",
        "for i in range(len(tweets)):\n",
        "  tweets.at[i,'text'] = remove_urls(tweets.iloc[i]['text'])\n",
        "# Convert to list\n",
        "data = tweets.text.values.tolist()\n",
        "# Remove Emails\n",
        "data = [re.sub('\\S*@\\S*\\s?', '', sent) for sent in data]\n",
        "# Remove new line characters\n",
        "data = [re.sub('\\s+', ' ', sent) for sent in data]\n",
        "# Remove distracting single quotes\n",
        "data = [re.sub(\"\\'\", \"\", sent) for sent in data]"
      ],
      "metadata": {
        "id": "8a_1cMbkbfwL"
      },
      "execution_count": null,
      "outputs": []
    },
    {
      "cell_type": "code",
      "source": [
        "data = np.array(data)\n",
        "data[:10]"
      ],
      "metadata": {
        "id": "2N80o9Y3bjis",
        "outputId": "ae79ba05-4e73-4f67-fdb9-e7e40ddb508e",
        "colab": {
          "base_uri": "https://localhost:8080/"
        }
      },
      "execution_count": null,
      "outputs": [
        {
          "output_type": "execute_result",
          "data": {
            "text/plain": [
              "array(['Damn just remembered this front bottoms show is about to cure my depression',\n",
              "       'hapless Dementia joe will lose to Trump, even if the economy craters into a full on depression & covid19 kills millions of people. Second you cannot expect to conduct an unfair, corrupt & illegitimate primary & expect people to fall in line. I voted for Hillary last time no mas.',\n",
              "       'its making me anxious lol',\n",
              "       'Im so glad my depression kicked in Im going to BED',\n",
              "       'Have some wine . Youll feel less anxious.',\n",
              "       'Everyone be patient. Messages blowing up. I know yall are anxious to bet something. I am doing mini write ups on each of the 6 games, because I want to be clear Im not just picking games for fucks sake. Theres a method to my madness. Once you pay, hang tight! Thank you!',\n",
              "       'Cant wait to tell my kids about the toilet paper depression of 2020',\n",
              "       'I think in order to keep sick hourly workers home, and to support people who cant work from home but have kids home from school, we need a much fatter bailout. 1/2 trillion or more. We risk an economic depression. This is serious.',\n",
              "       '< anxious bunny ',\n",
              "       'Right on, dedication is proven to our city. \"We have sustained this Market through the Depression, world wars and other society seismic shifts.\" Free delivery and two-hour parking is now free for market shoppers at 11th & Arch. (Safe streets advocates we can make exceptions) '],\n",
              "      dtype='<U352')"
            ]
          },
          "metadata": {},
          "execution_count": 153
        }
      ]
    },
    {
      "cell_type": "code",
      "source": [
        "sequences = tokenizer.texts_to_sequences(data)\n",
        "tweets = pad_sequences(sequences, maxlen=max_len)\n",
        "print(tweets)"
      ],
      "metadata": {
        "id": "titmKz2YblzS",
        "outputId": "880e6a8f-e1ed-438a-ab60-f276c469a066",
        "colab": {
          "base_uri": "https://localhost:8080/"
        }
      },
      "execution_count": null,
      "outputs": [
        {
          "output_type": "stream",
          "name": "stdout",
          "text": [
            "[[    0     0     0 ...  1058     8    50]\n",
            " [    0     0     0 ...   234    65    64]\n",
            " [    0     0     0 ...    15   396   594]\n",
            " ...\n",
            " [    0     0     0 ...  6504  2328  6504]\n",
            " [    0     0     0 ... 10164  6743  7890]\n",
            " [    0     0     0 ... 10164  6743  7890]]\n"
          ]
        }
      ]
    },
    {
      "cell_type": "code",
      "source": [
        "predictions = model3.predict(tweets)"
      ],
      "metadata": {
        "id": "qmZ5Flagbn81"
      },
      "execution_count": null,
      "outputs": []
    },
    {
      "cell_type": "code",
      "source": [
        "np.around(predictions, decimals=0)"
      ],
      "metadata": {
        "id": "7q9ZBiNXbp6O",
        "outputId": "ab857a2c-b3ac-4f27-abe8-98f4f7224b68",
        "colab": {
          "base_uri": "https://localhost:8080/"
        }
      },
      "execution_count": null,
      "outputs": [
        {
          "output_type": "execute_result",
          "data": {
            "text/plain": [
              "array([[1.],\n",
              "       [0.],\n",
              "       [0.],\n",
              "       ...,\n",
              "       [0.],\n",
              "       [0.],\n",
              "       [0.]], dtype=float32)"
            ]
          },
          "metadata": {},
          "execution_count": 156
        }
      ]
    },
    {
      "cell_type": "code",
      "source": [
        "tweets_dataset['label'] = np.around(predictions, decimals=0)"
      ],
      "metadata": {
        "id": "022zfjOacBvB"
      },
      "execution_count": null,
      "outputs": []
    },
    {
      "cell_type": "code",
      "source": [
        "for i in range(10):\n",
        "    print(tweets_dataset.iloc[i*2]['text'])\n",
        "    print('\\n')"
      ],
      "metadata": {
        "id": "V5pkHrwmcETl",
        "outputId": "05c567dd-abea-4d9a-8e9e-cf4b44bef43f",
        "colab": {
          "base_uri": "https://localhost:8080/"
        }
      },
      "execution_count": null,
      "outputs": [
        {
          "output_type": "stream",
          "name": "stdout",
          "text": [
            "Damn just remembered this front bottoms show is about to cure my depression\n",
            "\n",
            "\n",
            "it's making me anxious lol\n",
            "\n",
            "\n",
            "Have some wine . You’ll feel less anxious.\n",
            "\n",
            "\n",
            "Can’t wait to tell my kids about the toilet paper depression of 2020\n",
            "\n",
            "\n",
            "<——— anxious bunny https://twitter.com/GlennonDoyle/status/1238449159168053250 …\n",
            "\n",
            "\n",
            "And here we are the Great Depression of toilet paper\n",
            "\n",
            "\n",
            "Depression is knocking at the door #Tougaloo_RYS20 #Jackson_RYS20https://twitter.com/UnderRatedTim/status/1238589018662715392 …\n",
            "\n",
            "\n",
            "Take me back! Kind of been in a slight depression since being home. With all this virus crap, it’s making it worse! Kind of hard to return to normal life when people think the world is ending @Atlantis Bahamas https://www.instagram.com/p/B9sZ6Q9HmL-/?igshid=kku0lw1dwunw …\n",
            "\n",
            "\n",
            "Take me back! Kind of been in a slight depression since being home. With all this virus crap, it’s making it worse! Kind of hard to return to normal life when people think the world is ending @Atlantis Bahamas https://www.instagram.com/p/B9saRbFnKRv/?igshid=ae0pbpjiqmxo …\n",
            "\n",
            "\n",
            "Seasonal depression is a fucking bitch, depression in general is a bitch\n",
            "\n",
            "\n"
          ]
        }
      ]
    },
    {
      "cell_type": "code",
      "source": [
        ""
      ],
      "metadata": {
        "id": "BkPwKwxfcFp3"
      },
      "execution_count": null,
      "outputs": []
    }
  ],
  "metadata": {
    "colab": {
      "collapsed_sections": [],
      "name": "Depression Analysis using Tweets",
      "provenance": []
    },
    "kernelspec": {
      "display_name": "Python 3",
      "name": "python3"
    }
  },
  "nbformat": 4,
  "nbformat_minor": 0
}